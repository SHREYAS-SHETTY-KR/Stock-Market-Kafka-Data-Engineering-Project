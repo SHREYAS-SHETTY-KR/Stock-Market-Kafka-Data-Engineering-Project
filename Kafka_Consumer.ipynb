{
 "cells": [
  {
   "cell_type": "code",
   "execution_count": 20,
   "id": "b334abab",
   "metadata": {},
   "outputs": [
    {
     "name": "stdout",
     "output_type": "stream",
     "text": [
      "Collecting s3fs\n",
      "  Downloading s3fs-2023.12.2-py3-none-any.whl.metadata (1.6 kB)\n",
      "Collecting aiobotocore<3.0.0,>=2.5.4 (from s3fs)\n",
      "  Downloading aiobotocore-2.9.0-py3-none-any.whl.metadata (20 kB)\n",
      "Collecting fsspec==2023.12.2 (from s3fs)\n",
      "  Downloading fsspec-2023.12.2-py3-none-any.whl.metadata (6.8 kB)\n",
      "Collecting aiohttp!=4.0.0a0,!=4.0.0a1 (from s3fs)\n",
      "  Downloading aiohttp-3.9.1-cp311-cp311-win_amd64.whl.metadata (7.6 kB)\n",
      "Collecting botocore<1.33.14,>=1.33.2 (from aiobotocore<3.0.0,>=2.5.4->s3fs)\n",
      "  Downloading botocore-1.33.13-py3-none-any.whl.metadata (6.1 kB)\n",
      "Collecting wrapt<2.0.0,>=1.10.10 (from aiobotocore<3.0.0,>=2.5.4->s3fs)\n",
      "  Downloading wrapt-1.16.0-cp311-cp311-win_amd64.whl.metadata (6.8 kB)\n",
      "Collecting aioitertools<1.0.0,>=0.5.1 (from aiobotocore<3.0.0,>=2.5.4->s3fs)\n",
      "  Downloading aioitertools-0.11.0-py3-none-any.whl (23 kB)\n",
      "Requirement already satisfied: attrs>=17.3.0 in c:\\users\\shrey\\appdata\\local\\programs\\python\\python311\\lib\\site-packages (from aiohttp!=4.0.0a0,!=4.0.0a1->s3fs) (23.1.0)\n",
      "Collecting multidict<7.0,>=4.5 (from aiohttp!=4.0.0a0,!=4.0.0a1->s3fs)\n",
      "  Downloading multidict-6.0.4-cp311-cp311-win_amd64.whl (28 kB)\n",
      "Collecting yarl<2.0,>=1.0 (from aiohttp!=4.0.0a0,!=4.0.0a1->s3fs)\n",
      "  Downloading yarl-1.9.4-cp311-cp311-win_amd64.whl.metadata (32 kB)\n",
      "Collecting frozenlist>=1.1.1 (from aiohttp!=4.0.0a0,!=4.0.0a1->s3fs)\n",
      "  Downloading frozenlist-1.4.1-cp311-cp311-win_amd64.whl.metadata (12 kB)\n",
      "Collecting aiosignal>=1.1.2 (from aiohttp!=4.0.0a0,!=4.0.0a1->s3fs)\n",
      "  Downloading aiosignal-1.3.1-py3-none-any.whl (7.6 kB)\n",
      "Requirement already satisfied: jmespath<2.0.0,>=0.7.1 in c:\\users\\shrey\\appdata\\local\\programs\\python\\python311\\lib\\site-packages (from botocore<1.33.14,>=1.33.2->aiobotocore<3.0.0,>=2.5.4->s3fs) (1.0.1)\n",
      "Requirement already satisfied: python-dateutil<3.0.0,>=2.1 in c:\\users\\shrey\\appdata\\local\\programs\\python\\python311\\lib\\site-packages (from botocore<1.33.14,>=1.33.2->aiobotocore<3.0.0,>=2.5.4->s3fs) (2.8.2)\n",
      "Collecting urllib3<2.1,>=1.25.4 (from botocore<1.33.14,>=1.33.2->aiobotocore<3.0.0,>=2.5.4->s3fs)\n",
      "  Downloading urllib3-2.0.7-py3-none-any.whl.metadata (6.6 kB)\n",
      "Requirement already satisfied: idna>=2.0 in c:\\users\\shrey\\appdata\\local\\programs\\python\\python311\\lib\\site-packages (from yarl<2.0,>=1.0->aiohttp!=4.0.0a0,!=4.0.0a1->s3fs) (3.4)\n",
      "Requirement already satisfied: six>=1.5 in c:\\users\\shrey\\appdata\\local\\programs\\python\\python311\\lib\\site-packages (from python-dateutil<3.0.0,>=2.1->botocore<1.33.14,>=1.33.2->aiobotocore<3.0.0,>=2.5.4->s3fs) (1.16.0)\n",
      "Downloading s3fs-2023.12.2-py3-none-any.whl (28 kB)\n",
      "Downloading fsspec-2023.12.2-py3-none-any.whl (168 kB)\n",
      "   ---------------------------------------- 0.0/169.0 kB ? eta -:--:--\n",
      "   ---------------------------------------- 169.0/169.0 kB 5.1 MB/s eta 0:00:00\n",
      "Downloading aiobotocore-2.9.0-py3-none-any.whl (75 kB)\n",
      "   ---------------------------------------- 0.0/76.0 kB ? eta -:--:--\n",
      "   ---------------------------------------- 76.0/76.0 kB ? eta 0:00:00\n",
      "Downloading aiohttp-3.9.1-cp311-cp311-win_amd64.whl (364 kB)\n",
      "   ---------------------------------------- 0.0/364.8 kB ? eta -:--:--\n",
      "   --------------------------------------- 364.8/364.8 kB 22.2 MB/s eta 0:00:00\n",
      "Downloading botocore-1.33.13-py3-none-any.whl (11.8 MB)\n",
      "   ---------------------------------------- 0.0/11.8 MB ? eta -:--:--\n",
      "   ---- ----------------------------------- 1.2/11.8 MB 26.1 MB/s eta 0:00:01\n",
      "   -------- ------------------------------- 2.4/11.8 MB 25.2 MB/s eta 0:00:01\n",
      "   ------------ --------------------------- 3.8/11.8 MB 26.8 MB/s eta 0:00:01\n",
      "   ----------------- ---------------------- 5.0/11.8 MB 26.9 MB/s eta 0:00:01\n",
      "   -------------------- ------------------- 6.2/11.8 MB 26.4 MB/s eta 0:00:01\n",
      "   ------------------------- -------------- 7.4/11.8 MB 26.4 MB/s eta 0:00:01\n",
      "   ---------------------------- ----------- 8.4/11.8 MB 25.7 MB/s eta 0:00:01\n",
      "   ------------------------------- -------- 9.4/11.8 MB 25.1 MB/s eta 0:00:01\n",
      "   --------------------------------- ------ 9.9/11.8 MB 24.3 MB/s eta 0:00:01\n",
      "   --------------------------------- ------ 10.0/11.8 MB 22.0 MB/s eta 0:00:01\n",
      "   ------------------------------------ --- 10.7/11.8 MB 20.5 MB/s eta 0:00:01\n",
      "   ---------------------------------------  11.8/11.8 MB 19.9 MB/s eta 0:00:01\n",
      "   ---------------------------------------- 11.8/11.8 MB 19.3 MB/s eta 0:00:00\n",
      "Downloading frozenlist-1.4.1-cp311-cp311-win_amd64.whl (50 kB)\n",
      "   ---------------------------------------- 0.0/50.5 kB ? eta -:--:--\n",
      "   ---------------------------------------- 50.5/50.5 kB 2.7 MB/s eta 0:00:00\n",
      "Downloading wrapt-1.16.0-cp311-cp311-win_amd64.whl (37 kB)\n",
      "Downloading yarl-1.9.4-cp311-cp311-win_amd64.whl (76 kB)\n",
      "   ---------------------------------------- 0.0/76.7 kB ? eta -:--:--\n",
      "   ---------------------------------------- 76.7/76.7 kB 2.1 MB/s eta 0:00:00\n",
      "Downloading urllib3-2.0.7-py3-none-any.whl (124 kB)\n",
      "   ---------------------------------------- 0.0/124.2 kB ? eta -:--:--\n",
      "   ---------------------------------------- 124.2/124.2 kB ? eta 0:00:00\n",
      "Installing collected packages: wrapt, urllib3, multidict, fsspec, frozenlist, aioitertools, yarl, botocore, aiosignal, aiohttp, aiobotocore, s3fs\n",
      "  Attempting uninstall: urllib3\n",
      "    Found existing installation: urllib3 2.1.0\n",
      "    Uninstalling urllib3-2.1.0:\n",
      "      Successfully uninstalled urllib3-2.1.0\n",
      "  Attempting uninstall: botocore\n",
      "    Found existing installation: botocore 1.31.62\n",
      "    Uninstalling botocore-1.31.62:\n",
      "      Successfully uninstalled botocore-1.31.62\n",
      "Successfully installed aiobotocore-2.9.0 aiohttp-3.9.1 aioitertools-0.11.0 aiosignal-1.3.1 botocore-1.33.13 frozenlist-1.4.1 fsspec-2023.12.2 multidict-6.0.4 s3fs-2023.12.2 urllib3-2.0.7 wrapt-1.16.0 yarl-1.9.4\n",
      "Note: you may need to restart the kernel to use updated packages.\n"
     ]
    },
    {
     "name": "stderr",
     "output_type": "stream",
     "text": [
      "ERROR: pip's dependency resolver does not currently take into account all the packages that are installed. This behaviour is the source of the following dependency conflicts.\n",
      "boto3 1.28.62 requires botocore<1.32.0,>=1.31.62, but you have botocore 1.33.13 which is incompatible.\n",
      "requests 2.28.1 requires urllib3<1.27,>=1.21.1, but you have urllib3 2.0.7 which is incompatible.\n",
      "\n",
      "[notice] A new release of pip is available: 23.3.1 -> 23.3.2\n",
      "[notice] To update, run: python.exe -m pip install --upgrade pip\n"
     ]
    }
   ],
   "source": [
    "pip install s3fs"
   ]
  },
  {
   "cell_type": "code",
   "execution_count": 21,
   "id": "d2346b31",
   "metadata": {},
   "outputs": [],
   "source": [
    "from kafka import KafkaConsumer\n",
    "from time import time\n",
    "from json import loads\n",
    "import json\n",
    "from s3fs import S3FileSystem"
   ]
  },
  {
   "cell_type": "code",
   "execution_count": 32,
   "id": "352ccad2",
   "metadata": {},
   "outputs": [],
   "source": [
    "consumer = KafkaConsumer(\n",
    "           'Kproject',\n",
    "            bootstrap_servers = ['15.207.55.66:9092'],\n",
    "            value_deserializer = lambda x : loads(x.decode('utf-8')))\n"
   ]
  },
  {
   "cell_type": "code",
   "execution_count": 36,
   "id": "ec2ed2f4",
   "metadata": {
    "scrolled": true
   },
   "outputs": [],
   "source": [
    "# for c in consumer:\n",
    "   # print(c.value)"
   ]
  },
  {
   "cell_type": "code",
   "execution_count": 33,
   "id": "27c8aa5b",
   "metadata": {},
   "outputs": [],
   "source": [
    "s3 = S3FileSystem()"
   ]
  },
  {
   "cell_type": "code",
   "execution_count": 37,
   "id": "1af0583a",
   "metadata": {},
   "outputs": [],
   "source": [
    " for count, i in enumerate(consumer):\n",
    "     with s3.open(\"s3://kafkaprojectstock/stock_{}.json\".format(count),'w') as file:\n",
    "        json.dump(i.value, file)"
   ]
  },
  {
   "cell_type": "code",
   "execution_count": null,
   "id": "01cfb34b",
   "metadata": {},
   "outputs": [],
   "source": [
    "   "
   ]
  }
 ],
 "metadata": {
  "kernelspec": {
   "display_name": "Python 3 (ipykernel)",
   "language": "python",
   "name": "python3"
  },
  "language_info": {
   "codemirror_mode": {
    "name": "ipython",
    "version": 3
   },
   "file_extension": ".py",
   "mimetype": "text/x-python",
   "name": "python",
   "nbconvert_exporter": "python",
   "pygments_lexer": "ipython3",
   "version": "3.11.0"
  }
 },
 "nbformat": 4,
 "nbformat_minor": 5
}
